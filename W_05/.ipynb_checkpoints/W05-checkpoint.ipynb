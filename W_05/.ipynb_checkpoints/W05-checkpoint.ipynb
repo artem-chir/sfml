{
 "cells": [
  {
   "cell_type": "code",
   "execution_count": 22,
   "metadata": {},
   "outputs": [],
   "source": [
    "import requests\n",
    "import re\n",
    "from bs4 import BeautifulSoup\n",
    "import pymorphy2\n",
    "import datetime\n",
    "import math\n",
    "from collections import Counter"
   ]
  },
  {
   "cell_type": "code",
   "execution_count": 15,
   "metadata": {},
   "outputs": [
    {
     "data": {
      "text/plain": [
       "<Response [200]>"
      ]
     },
     "execution_count": 15,
     "metadata": {},
     "output_type": "execute_result"
    }
   ],
   "source": [
    "requests.get(\"http://lenta.ru/\")"
   ]
  },
  {
   "cell_type": "code",
   "execution_count": 27,
   "metadata": {},
   "outputs": [],
   "source": [
    "findheaders = re.compile('<h1.+?>(.+)</h1>', re.S)\n",
    "boa = re.compile('div class=\"b-text clearfix js-topic__text\" itemprop=\"articleBody\"><p>', re.S)\n",
    "eoa = re.compile('<div class=\"b-box\"><i>', re.S)\n",
    "delscript = re.compile('<script.+?>(.+)</script>', re.S)"
   ]
  },
  {
   "cell_type": "code",
   "execution_count": 28,
   "metadata": {},
   "outputs": [],
   "source": [
    "def getLentaArticle2(url):\n",
    "    article = requests.get(url)\n",
    "    title = findheaders.findall(article.text)[0]\n",
    "    text = eoa.split( boa.split(article.text)[1] )\n",
    "    text = \"\".join(delscript.split(text[0]))\n",
    "    return BeautifulSoup ( title + '\\n--------\\n' + text, 'lxml').get_text()"
   ]
  },
  {
   "cell_type": "code",
   "execution_count": 35,
   "metadata": {},
   "outputs": [],
   "source": [
    "def getLentaArticle(url):\n",
    "    article = requests.get(url)\n",
    "    title = findheaders.findall(article.text)[0]\n",
    "    \n",
    "    bs = BeautifulSoup ( article.text, 'lxml')\n",
    "    #title = str(bs('h1'))\n",
    "    text = delscript.split( str(bs('p'))[1:-1])\n",
    "    return BeautifulSoup ( title + '\\n--------\\n' + \"\".join(text), 'lxml').get_text()"
   ]
  },
  {
   "cell_type": "code",
   "execution_count": 41,
   "metadata": {},
   "outputs": [],
   "source": [
    "art_text = getLentaArticle('https://lenta.ru/news/2018/09/30/tayga/')"
   ]
  },
  {
   "cell_type": "code",
   "execution_count": 43,
   "metadata": {},
   "outputs": [],
   "source": [
    "posConv = {'ADJF':'_ADJ', 'NOUN':'_NOUN', 'VERB':'_VERB'}\n",
    "meaningfullPoSes = ['ADJF', 'NOUN', 'VERB']\n",
    "\n",
    "def getArticleDictionary( text, needPos = None):\n",
    "    words = [a[0] for a in re.findall(\"([А-ЯЁа-яё]+(-[А-ЯЁа-яё]+)*)\", text)]\n",
    "    reswords = []\n",
    "    \n",
    "    for w in words:\n",
    "        wordform = morph.parse(w)[0]\n",
    "        if wordform.tag.POS in meaningfullPoSes:\n",
    "            if needPos != None:\n",
    "                reswords.append(wordform.normal_form + posConv[wordform.tag.POS] )\n",
    "            else:\n",
    "                reswords.append(wordform.normal_form)\n",
    "    return Counter ( reswords )"
   ]
  },
  {
   "cell_type": "code",
   "execution_count": 44,
   "metadata": {},
   "outputs": [
    {
     "data": {
      "text/plain": [
       "Counter({'александр_NOUN': 1,\n",
       "         'взять_VERB': 1,\n",
       "         'визит_NOUN': 1,\n",
       "         'владимир_NOUN': 2,\n",
       "         'глава_NOUN': 1,\n",
       "         'главый_ADJ': 1,\n",
       "         'год_NOUN': 1,\n",
       "         'государство_NOUN': 1,\n",
       "         'день_NOUN': 1,\n",
       "         'дмитрий_NOUN': 1,\n",
       "         'добавить_VERB': 1,\n",
       "         'документ_NOUN': 2,\n",
       "         'дорога_NOUN': 1,\n",
       "         'душанбе_NOUN': 1,\n",
       "         'евгений_NOUN': 1,\n",
       "         'жээнбеков_NOUN': 1,\n",
       "         'заночевать_VERB': 1,\n",
       "         'зачитаться_VERB': 1,\n",
       "         'киргизия_NOUN': 1,\n",
       "         'книга_NOUN': 2,\n",
       "         'красноярск_NOUN': 1,\n",
       "         'краткий_ADJ': 1,\n",
       "         'лидер_NOUN': 1,\n",
       "         'море_NOUN': 1,\n",
       "         'новость_NOUN': 2,\n",
       "         'новый_ADJ': 1,\n",
       "         'онегин_NOUN': 1,\n",
       "         'остановка_NOUN': 1,\n",
       "         'отдохнуть_VERB': 1,\n",
       "         'отдых_NOUN': 1,\n",
       "         'открыть_VERB': 1,\n",
       "         'отправиться_VERB': 1,\n",
       "         'передавать_VERB': 1,\n",
       "         'песок_NOUN': 1,\n",
       "         'писать_VERB': 1,\n",
       "         'побывать_VERB': 1,\n",
       "         'подписание_NOUN': 1,\n",
       "         'подпись_NOUN': 2,\n",
       "         'положить_VERB': 1,\n",
       "         'пообщаться_VERB': 1,\n",
       "         'порция_NOUN': 1,\n",
       "         'поставить_VERB': 1,\n",
       "         'походный_ADJ': 1,\n",
       "         'президент_NOUN': 4,\n",
       "         'пресс-секретарь_NOUN': 1,\n",
       "         'прибыть_VERB': 1,\n",
       "         'принести_VERB': 1,\n",
       "         'провести_VERB': 2,\n",
       "         'пролистать_VERB': 1,\n",
       "         'процесс_NOUN': 1,\n",
       "         'путин_NOUN': 7,\n",
       "         'пушкин_NOUN': 1,\n",
       "         'пятница_NOUN': 1,\n",
       "         'рабочий_NOUN': 1,\n",
       "         'рассказать_VERB': 1,\n",
       "         'рахмон_NOUN': 1,\n",
       "         'риа_NOUN': 2,\n",
       "         'роман_NOUN': 1,\n",
       "         'российский_ADJ': 1,\n",
       "         'россия_NOUN': 1,\n",
       "         'саммит_NOUN': 1,\n",
       "         'свой_ADJ': 1,\n",
       "         'сентябрь_NOUN': 2,\n",
       "         'сибирский_ADJ': 1,\n",
       "         'совершить_VERB': 1,\n",
       "         'сообщить_VERB': 1,\n",
       "         'сооронбай_NOUN': 1,\n",
       "         'сочи_NOUN': 1,\n",
       "         'стихотворный_ADJ': 1,\n",
       "         'столица_NOUN': 1,\n",
       "         'страница_NOUN': 1,\n",
       "         'суббота_NOUN': 1,\n",
       "         'субботний_ADJ': 1,\n",
       "         'таджикистан_NOUN': 2,\n",
       "         'тайга_NOUN': 4,\n",
       "         'уехать_VERB': 1,\n",
       "         'условие_NOUN': 1,\n",
       "         'участие_NOUN': 1,\n",
       "         'хакасия_NOUN': 1,\n",
       "         'церемония_NOUN': 1,\n",
       "         'частность_NOUN': 1,\n",
       "         'экземпляр_NOUN': 1,\n",
       "         'эмомали_NOUN': 1})"
      ]
     },
     "execution_count": 44,
     "metadata": {},
     "output_type": "execute_result"
    }
   ],
   "source": [
    "getArticleDictionary( art_text, True )"
   ]
  },
  {
   "cell_type": "code",
   "execution_count": null,
   "metadata": {},
   "outputs": [],
   "source": []
  }
 ],
 "metadata": {
  "kernelspec": {
   "display_name": "Python 3",
   "language": "python",
   "name": "python3"
  },
  "language_info": {
   "codemirror_mode": {
    "name": "ipython",
    "version": 3
   },
   "file_extension": ".py",
   "mimetype": "text/x-python",
   "name": "python",
   "nbconvert_exporter": "python",
   "pygments_lexer": "ipython3",
   "version": "3.6.4"
  }
 },
 "nbformat": 4,
 "nbformat_minor": 2
}
